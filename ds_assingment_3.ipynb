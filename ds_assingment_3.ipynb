{
 "cells": [
  {
   "cell_type": "markdown",
   "id": "09e6df5e-cacf-4c0f-aadd-e4e9f466f3a3",
   "metadata": {},
   "source": [
    "Q1. Create a python program to sort the given list of tuples based on integer value using a\r\n",
    "lambda function\n",
    ".\r\n",
    "[('Sachin Tendulkar', 34357), ('Ricky Ponting', 27483), ('Jack Kallis', 25534), ('Virat Kohli', 24936)]"
   ]
  },
  {
   "cell_type": "code",
   "execution_count": 35,
   "id": "abf5cdf7-dcba-4f5d-a9b0-d5acdfc6e763",
   "metadata": {},
   "outputs": [
    {
     "name": "stdout",
     "output_type": "stream",
     "text": [
      "[('Virat Kohli', 24936), ('Jack Kallis', 25534), ('Ricky Ponting', 27483), ('Sachin Tendulkar', 34357)]\n"
     ]
    }
   ],
   "source": [
    "l=[('Sachin Tendulkar', 34357), ('Ricky Ponting', 27483), ('Jack Kallis', 25534), ('Virat Kohli', 24936)]\n",
    "sorted_data = sorted(l, key=lambda x: x[1])\n",
    "print(sorted_data)"
   ]
  },
  {
   "cell_type": "markdown",
   "id": "668f1c4d-2d25-49bd-9d4f-968c74992b81",
   "metadata": {},
   "source": [
    "  Q2. Write a Python Program to find the squares of all the numbers in the given list of integers using\r\n",
    "lambda and map functions.\r\n",
    "[1, 2, 3, 4, 5, 6, 7, 8, 9, 10]"
   ]
  },
  {
   "cell_type": "code",
   "execution_count": 40,
   "id": "b1bfc030-9aae-4ca7-b1d4-b48b21460250",
   "metadata": {},
   "outputs": [
    {
     "name": "stdout",
     "output_type": "stream",
     "text": [
      "[1, 4, 9, 16, 25, 36, 49, 64, 81, 100]\n"
     ]
    }
   ],
   "source": [
    "l1= [1, 2, 3, 4, 5, 6, 7, 8, 9, 10]\n",
    "a=list(map((lambda x:x**2),l1))\n",
    "print(a)"
   ]
  },
  {
   "cell_type": "markdown",
   "id": "94938f41-5ea5-4cc3-a17d-22170499fafa",
   "metadata": {},
   "source": [
    "Q3. Write a python program to convert the given list of integers into a tuple of strings. Use map and\r\n",
    "lambda functions\r\n",
    "Given String: [1, 2, 3, 4, 5, 6, 7, 8, 9, 10]\r\n",
    "Expected output: ('1', '2', '3', '4', '5', '6', '7', '8', '9', '10')"
   ]
  },
  {
   "cell_type": "code",
   "execution_count": 52,
   "id": "ec626479-23ee-4db4-9bea-cbeaac3d8505",
   "metadata": {},
   "outputs": [
    {
     "name": "stdout",
     "output_type": "stream",
     "text": [
      "('1', '2', '3', '4', '5', '6', '7', '8', '9', '10')\n"
     ]
    }
   ],
   "source": [
    "l2=[1, 2, 3, 4, 5, 6, 7, 8, 9, 10]\n",
    "b=tuple(map(lambda x:str(x),l2))\n",
    "print(b)"
   ]
  },
  {
   "cell_type": "markdown",
   "id": "f1a668a1-f353-4b8a-bf60-5f1d8cdd32dd",
   "metadata": {},
   "source": [
    "Q4. Write a python program using reduce function to compute the product of a list containing numbers\n",
    "from 1 to 25."
   ]
  },
  {
   "cell_type": "code",
   "execution_count": 71,
   "id": "f856b066-9c45-4e47-a858-4f8878ee3e63",
   "metadata": {},
   "outputs": [
    {
     "name": "stdout",
     "output_type": "stream",
     "text": [
      "[1, 2, 3, 4, 5, 6, 7, 8, 9, 10, 11, 12, 13, 14, 15, 16, 17, 18, 19, 20, 21, 22, 23, 24, 25]\n",
      "15511210043330985984000000\n"
     ]
    }
   ],
   "source": [
    "from functools import reduce\n",
    "\n",
    "num=list(range(1,26))\n",
    "multi=reduce(lambda x,y:x*y,num)\n",
    "print(f'{num}\\n{multi}')"
   ]
  },
  {
   "cell_type": "markdown",
   "id": "99b367f2-2fee-4780-a3af-1bf6959da21e",
   "metadata": {},
   "source": [
    "Q5. Write a python program to filter the numbers in a given list that are divisible by 2 and 3 using the\r\n",
    "filter function.\r\n",
    "[2, 3, 6, 9, 27, 60, 90, 120, 55, 46]"
   ]
  },
  {
   "cell_type": "code",
   "execution_count": 82,
   "id": "42711d26-848a-4d70-a650-3cddafcd999f",
   "metadata": {},
   "outputs": [
    {
     "name": "stdout",
     "output_type": "stream",
     "text": [
      "[6, 60, 90, 120]\n"
     ]
    }
   ],
   "source": [
    "n=[2, 3, 6, 9, 27, 60, 90, 120, 55, 46]\n",
    "f=list(filter(lambda x:x%2==0 and x%3==0,n))\n",
    "print(f)"
   ]
  },
  {
   "cell_type": "markdown",
   "id": "5a1ba91c-d199-4324-bda3-771a62edac67",
   "metadata": {},
   "source": [
    "Q6. Write a python program to find palindromes in the given list of strings using lambda and filter\n",
    "function.\n",
    "['python', 'php', 'aba', 'radar', 'level']"
   ]
  },
  {
   "cell_type": "code",
   "execution_count": 86,
   "id": "9b92a39a-0245-45c9-9418-0a6ed1ef8f8e",
   "metadata": {},
   "outputs": [
    {
     "name": "stdout",
     "output_type": "stream",
     "text": [
      "['php', 'aba', 'radar', 'level']\n"
     ]
    }
   ],
   "source": [
    "m= ['python', 'php', 'aba', 'radar', 'level']\n",
    "x=list(filter(lambda q:q==q[::-1],m))\n",
    "print(x)"
   ]
  },
  {
   "cell_type": "code",
   "execution_count": null,
   "id": "1451e162-5e81-40e8-b21e-164c903615fb",
   "metadata": {},
   "outputs": [],
   "source": []
  }
 ],
 "metadata": {
  "kernelspec": {
   "display_name": "Python 3 (ipykernel)",
   "language": "python",
   "name": "python3"
  },
  "language_info": {
   "codemirror_mode": {
    "name": "ipython",
    "version": 3
   },
   "file_extension": ".py",
   "mimetype": "text/x-python",
   "name": "python",
   "nbconvert_exporter": "python",
   "pygments_lexer": "ipython3",
   "version": "3.11.4"
  }
 },
 "nbformat": 4,
 "nbformat_minor": 5
}
